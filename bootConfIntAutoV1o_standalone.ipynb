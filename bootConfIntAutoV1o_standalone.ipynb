{
 "cells": [
  {
   "cell_type": "markdown",
   "metadata": {},
   "source": [
    "* 2022-12-14 This version fixes a bug where \"get_alpha_nboots()\" was defined but it was  \"_get_alpha_nboots()\" that was was mistakenly invoked.\n",
    "\n",
    "# This First Part is from \"How To Deal With Imbalanced Classification, Without Re-balancing the Data\"  by David Rosen \n",
    "\n",
    "https://towardsdatascience.com/how-to-deal-with-imbalanced-classification-without-re-balancing-the-data-8a3c02353fe3\n",
    "## Second Part is down below"
   ]
  },
  {
   "cell_type": "code",
   "execution_count": 1,
   "metadata": {},
   "outputs": [
    {
     "name": "stderr",
     "output_type": "stream",
     "text": [
      "C:\\Users\\926304897\\AppData\\Local\\Programs\\Python\\Python39\\lib\\site-packages\\sklearn\\experimental\\enable_hist_gradient_boosting.py:16: UserWarning: Since version 1.0, it is not needed to import enable_hist_gradient_boosting anymore. HistGradientBoostingClassifier and HistGradientBoostingRegressor are now stable and can be normally imported from sklearn.ensemble.\n",
      "  warnings.warn(\n"
     ]
    },
    {
     "name": "stdout",
     "output_type": "stream",
     "text": [
      "<class 'pandas.core.frame.DataFrame'>\n",
      "RangeIndex: 284807 entries, 0 to 284806\n",
      "Data columns (total 31 columns):\n",
      " #   Column  Non-Null Count   Dtype  \n",
      "---  ------  --------------   -----  \n",
      " 0   Time    284807 non-null  float64\n",
      " 1   V1      284807 non-null  float64\n",
      " 2   V2      284807 non-null  float64\n",
      " 3   V3      284807 non-null  float64\n",
      " 4   V4      284807 non-null  float64\n",
      " 5   V5      284807 non-null  float64\n",
      " 6   V6      284807 non-null  float64\n",
      " 7   V7      284807 non-null  float64\n",
      " 8   V8      284807 non-null  float64\n",
      " 9   V9      284807 non-null  float64\n",
      " 10  V10     284807 non-null  float64\n",
      " 11  V11     284807 non-null  float64\n",
      " 12  V12     284807 non-null  float64\n",
      " 13  V13     284807 non-null  float64\n",
      " 14  V14     284807 non-null  float64\n",
      " 15  V15     284807 non-null  float64\n",
      " 16  V16     284807 non-null  float64\n",
      " 17  V17     284807 non-null  float64\n",
      " 18  V18     284807 non-null  float64\n",
      " 19  V19     284807 non-null  float64\n",
      " 20  V20     284807 non-null  float64\n",
      " 21  V21     284807 non-null  float64\n",
      " 22  V22     284807 non-null  float64\n",
      " 23  V23     284807 non-null  float64\n",
      " 24  V24     284807 non-null  float64\n",
      " 25  V25     284807 non-null  float64\n",
      " 26  V26     284807 non-null  float64\n",
      " 27  V27     284807 non-null  float64\n",
      " 28  V28     284807 non-null  float64\n",
      " 29  Amount  284807 non-null  float64\n",
      " 30  Class   284807 non-null  int64  \n",
      "dtypes: float64(30), int64(1)\n",
      "memory usage: 67.4 MB\n"
     ]
    }
   ],
   "source": [
    "import numpy as np\n",
    "import pandas as pd\n",
    "from sklearn import metrics, model_selection\n",
    "from sklearn.experimental import enable_hist_gradient_boosting\n",
    "from sklearn.ensemble import HistGradientBoostingClassifier\n",
    "df=pd.read_csv('creditcard.csv')\n",
    "df.info()"
   ]
  },
  {
   "cell_type": "code",
   "execution_count": 2,
   "metadata": {},
   "outputs": [
    {
     "data": {
      "text/plain": [
       "(492, 0.001727485630620034)"
      ]
     },
     "execution_count": 2,
     "metadata": {},
     "output_type": "execute_result"
    }
   ],
   "source": [
    "df.Class.sum(),df.Class.mean()"
   ]
  },
  {
   "cell_type": "markdown",
   "metadata": {},
   "source": [
    "## split into train and test and train the model"
   ]
  },
  {
   "cell_type": "code",
   "execution_count": 3,
   "metadata": {},
   "outputs": [],
   "source": [
    "Xtrain, Xtest, ytrain, ytest = model_selection.train_test_split(\n",
    "        df.loc[:,'V1':'Amount'], df.Class,  stratify=df.Class, \n",
    "        test_size=0.3, random_state=42)\n",
    "gbc=HistGradientBoostingClassifier(learning_rate=0.01, \n",
    "        max_iter=2000, max_leaf_nodes=6, validation_fraction=0.2, \n",
    "        n_iter_no_change=15, random_state=42).fit(Xtrain,ytrain)"
   ]
  },
  {
   "cell_type": "code",
   "execution_count": null,
   "metadata": {},
   "outputs": [],
   "source": []
  },
  {
   "cell_type": "code",
   "execution_count": 4,
   "metadata": {},
   "outputs": [
    {
     "data": {
      "text/plain": [
       "[pandas.core.frame.DataFrame,\n",
       " pandas.core.frame.DataFrame,\n",
       " pandas.core.series.Series,\n",
       " pandas.core.series.Series]"
      ]
     },
     "execution_count": 4,
     "metadata": {},
     "output_type": "execute_result"
    }
   ],
   "source": [
    "[type(x) for x in (Xtrain, Xtest, ytrain, ytest)]"
   ]
  },
  {
   "cell_type": "code",
   "execution_count": 5,
   "metadata": {},
   "outputs": [
    {
     "data": {
      "text/plain": [
       "(249927    0\n",
       " 214082    0\n",
       " 106005    0\n",
       " 58619     0\n",
       " 191638    0\n",
       "          ..\n",
       " 3441      0\n",
       " 233802    0\n",
       " 85418     0\n",
       " 29062     0\n",
       " 17677     0\n",
       " Name: Class, Length: 199364, dtype: int64,\n",
       " 186882    0\n",
       " 165754    0\n",
       " 235285    0\n",
       " 101271    0\n",
       " 5832      0\n",
       "          ..\n",
       " 64725     0\n",
       " 16688     0\n",
       " 183868    0\n",
       " 45011     0\n",
       " 150527    0\n",
       " Name: Class, Length: 85443, dtype: int64)"
      ]
     },
     "execution_count": 5,
     "metadata": {},
     "output_type": "execute_result"
    }
   ],
   "source": [
    "ytrain,ytest"
   ]
  },
  {
   "cell_type": "markdown",
   "metadata": {},
   "source": [
    "## apply the full model to the test data as a hard classifier with (implicit) decision threshold 0.5\n",
    "\n",
    "In other words, this classifier tells us which class is more probable than the other according to the model"
   ]
  },
  {
   "cell_type": "code",
   "execution_count": 6,
   "metadata": {},
   "outputs": [
    {
     "data": {
      "text/html": [
       "<div>\n",
       "<style scoped>\n",
       "    .dataframe tbody tr th:only-of-type {\n",
       "        vertical-align: middle;\n",
       "    }\n",
       "\n",
       "    .dataframe tbody tr th {\n",
       "        vertical-align: top;\n",
       "    }\n",
       "\n",
       "    .dataframe thead th {\n",
       "        text-align: right;\n",
       "    }\n",
       "</style>\n",
       "<table border=\"1\" class=\"dataframe\">\n",
       "  <thead>\n",
       "    <tr style=\"text-align: right;\">\n",
       "      <th></th>\n",
       "      <th>Pred 0(Approve as Legit)</th>\n",
       "      <th>Pred 1(Deny as Fraud)</th>\n",
       "    </tr>\n",
       "  </thead>\n",
       "  <tbody>\n",
       "    <tr>\n",
       "      <th>True 0(Legit)</th>\n",
       "      <td>TN = 85285 (TNR = 99.99%)</td>\n",
       "      <td>FP = 10 (FPR = 0.01%)</td>\n",
       "    </tr>\n",
       "    <tr>\n",
       "      <th>True 1(Fraud)</th>\n",
       "      <td>FN = 42 (FNR = 28.38%)</td>\n",
       "      <td>TP = 106 (TPR = 71.62%)</td>\n",
       "    </tr>\n",
       "  </tbody>\n",
       "</table>\n",
       "</div>"
      ],
      "text/plain": [
       "                Pred 0(Approve as Legit)    Pred 1(Deny as Fraud)\n",
       "True 0(Legit)  TN = 85285 (TNR = 99.99%)    FP = 10 (FPR = 0.01%)\n",
       "True 1(Fraud)     FN = 42 (FNR = 28.38%)  TP = 106 (TPR = 71.62%)"
      ]
     },
     "metadata": {},
     "output_type": "display_data"
    }
   ],
   "source": [
    "hardpredtst=gbc.predict(Xtest)\n",
    "def conf_matrix(y,pred):\n",
    "    ((tn, fp), (fn, tp)) = metrics.confusion_matrix(y, pred)\n",
    "    ((tnr,fpr),(fnr,tpr))= metrics.confusion_matrix(y, pred, \n",
    "            normalize='true')\n",
    "    return pd.DataFrame([[f'TN = {tn} (TNR = {tnr:1.2%})', \n",
    "                                f'FP = {fp} (FPR = {fpr:1.2%})'], \n",
    "                         [f'FN = {fn} (FNR = {fnr:1.2%})', \n",
    "                                f'TP = {tp} (TPR = {tpr:1.2%})']],\n",
    "            index=['True 0(Legit)', 'True 1(Fraud)'], \n",
    "            columns=['Pred 0(Approve as Legit)', \n",
    "                            'Pred 1(Deny as Fraud)'])\n",
    "display(conf_matrix(ytest,hardpredtst))"
   ]
  },
  {
   "cell_type": "markdown",
   "metadata": {},
   "source": [
    "The true pos rate (Recall of class 1 (frauds)) is too low -- we want to identify more than 72% of frauds as such"
   ]
  },
  {
   "cell_type": "markdown",
   "metadata": {},
   "source": [
    "Ultimately it is a business decision what threshold to apply when deciding whether to approve a transaction, as it is a trade-off between false approvals and false rejections."
   ]
  },
  {
   "cell_type": "markdown",
   "metadata": {},
   "source": [
    "## plot the true positive rate and false positive rate as a function of threshold to manage the trade-off"
   ]
  },
  {
   "cell_type": "code",
   "execution_count": 7,
   "metadata": {},
   "outputs": [
    {
     "data": {
      "image/png": "[encoded data removed]",
      "text/plain": [
       "<Figure size 1000x600 with 1 Axes>"
      ]
     },
     "metadata": {},
     "output_type": "display_data"
    }
   ],
   "source": [
    "predtst=gbc.predict_proba(Xtest)[:,1]\n",
    "fpr, tpr, thresholds = metrics.roc_curve(ytest, predtst)\n",
    "dfplot=pd.DataFrame({'Threshold':thresholds, \n",
    "        'False Positive Rate':fpr, \n",
    "        'False Negative Rate': 1.-tpr})\n",
    "ax=dfplot.plot(x='Threshold', y=['False Positive Rate',\n",
    "        'False Negative Rate'], figsize=(10,6))\n",
    "ax.plot([0.00035,0.00035],[0,0.1]) #mark example thresh.\n",
    "ax.set_xbound(0,0.0008); ax.set_ybound(0,0.3) #zoom in"
   ]
  },
  {
   "cell_type": "markdown",
   "metadata": {},
   "source": [
    "## choose a threshold of 0.00035 (0.035%) (vertical green line shown) which will give us a false negative (approved fraud) rate of about 9% and a false positive (rejected legitimate) rate of about 6%"
   ]
  },
  {
   "cell_type": "code",
   "execution_count": 8,
   "metadata": {},
   "outputs": [
    {
     "data": {
      "text/html": [
       "<div>\n",
       "<style scoped>\n",
       "    .dataframe tbody tr th:only-of-type {\n",
       "        vertical-align: middle;\n",
       "    }\n",
       "\n",
       "    .dataframe tbody tr th {\n",
       "        vertical-align: top;\n",
       "    }\n",
       "\n",
       "    .dataframe thead th {\n",
       "        text-align: right;\n",
       "    }\n",
       "</style>\n",
       "<table border=\"1\" class=\"dataframe\">\n",
       "  <thead>\n",
       "    <tr style=\"text-align: right;\">\n",
       "      <th></th>\n",
       "      <th>Pred 0(Approve as Legit)</th>\n",
       "      <th>Pred 1(Deny as Fraud)</th>\n",
       "    </tr>\n",
       "  </thead>\n",
       "  <tbody>\n",
       "    <tr>\n",
       "      <th>True 0(Legit)</th>\n",
       "      <td>TN = 80388 (TNR = 94.25%)</td>\n",
       "      <td>FP = 4907 (FPR = 5.75%)</td>\n",
       "    </tr>\n",
       "    <tr>\n",
       "      <th>True 1(Fraud)</th>\n",
       "      <td>FN = 14 (FNR = 9.46%)</td>\n",
       "      <td>TP = 134 (TPR = 90.54%)</td>\n",
       "    </tr>\n",
       "  </tbody>\n",
       "</table>\n",
       "</div>"
      ],
      "text/plain": [
       "                Pred 0(Approve as Legit)    Pred 1(Deny as Fraud)\n",
       "True 0(Legit)  TN = 80388 (TNR = 94.25%)  FP = 4907 (FPR = 5.75%)\n",
       "True 1(Fraud)      FN = 14 (FNR = 9.46%)  TP = 134 (TPR = 90.54%)"
      ]
     },
     "execution_count": 8,
     "metadata": {},
     "output_type": "execute_result"
    }
   ],
   "source": [
    "hardpredtst_tuned_thresh = np.where(predtst >= 0.00035, 1, 0)\n",
    "conf_matrix(ytest, hardpredtst_tuned_thresh)"
   ]
  },
  {
   "cell_type": "markdown",
   "metadata": {},
   "source": [
    "Sure enough, False neg rate of 9.46% (i.e. identified/denied 90.54% of our frauds) and false pos rt of 5.75% (i.e. still approved 94.25% of our legitimate transactions)."
   ]
  },
  {
   "cell_type": "markdown",
   "metadata": {},
   "source": [
    "# This second part is for \"How to calculate Machine Learning confidence intervals using an automatic bootstrap method”"
   ]
  },
  {
   "cell_type": "markdown",
   "metadata": {},
   "source": [
    "## custom metric specificity_score(), and a function to apply a list of metrics to data"
   ]
  },
  {
   "cell_type": "code",
   "execution_count": 9,
   "metadata": {},
   "outputs": [],
   "source": [
    "import re  # regular expressions\n",
    "import numpy as np\n",
    "import pandas as pd\n",
    "from sklearn import metrics\n",
    "def specificity_score(true, pred, **kwargs):\n",
    "    \"\"\"sklearn-compat Specificity metric func for binary: 1=posi class, 0=nega\n",
    "    \"\"\"\n",
    "    return metrics.recall_score(1 - pd.Series(true), 1 - pd.Series(pred), **kwargs)\n",
    "specificity_score.__name__ = \"Specificity (Recall of −ve)\"\n",
    "def calc_metrics(metrics, *data_args):\n",
    "    \"\"\"Return a list of calculated values for each metric applied to *data_args\n",
    "    where metrics is a metric func or iterable of funcs e.g. [m1, m2, m3, m4]\n",
    "    \"\"\"\n",
    "    metrics=_fix_metrics(metrics)\n",
    "    mname = metrics.__name__ if hasattr(metrics, '__name__') else \"Metric\"\n",
    "    return pd.Series\\\n",
    "      ([m(*data_args) for m in metrics], index=[_metric_name(m) for m in metrics], name=mname)\n",
    "def _metric_name(metric):  # use its prettified __name__\n",
    "    name = re.sub(' score$', '', metric.__name__.replace('_',' ').strip())\n",
    "    return name.title() if name.lower()==name else name\n",
    "def _fix_metrics(metrics_): # allow for single metric func or any iterable of metric funcs\n",
    "    if callable(metrics_): metrics_=[metrics_]  # single metric func to list of one\n",
    "    return pd.Series(metrics_)  # in case iterable metrics_ is generator, generate & store them"
   ]
  },
  {
   "cell_type": "markdown",
   "metadata": {},
   "source": [
    "## make a list of metrics and apply them to the data"
   ]
  },
  {
   "cell_type": "code",
   "execution_count": 10,
   "metadata": {},
   "outputs": [
    {
     "data": {
      "text/plain": [
       "Recall                         0.905405\n",
       "Specificity (Recall of −ve)    0.942470\n",
       "Balanced Accuracy              0.923938\n",
       "Name: Metric, dtype: float64"
      ]
     },
     "execution_count": 10,
     "metadata": {},
     "output_type": "execute_result"
    }
   ],
   "source": [
    "met=[ metrics.recall_score, specificity_score, \n",
    "      metrics.balanced_accuracy_score\n",
    "    ]\n",
    "calc_metrics(met, ytest, hardpredtst_tuned_thresh)"
   ]
  },
  {
   "cell_type": "markdown",
   "metadata": {},
   "source": [
    "## Function to make 1 boot dataset"
   ]
  },
  {
   "cell_type": "code",
   "execution_count": 11,
   "metadata": {},
   "outputs": [],
   "source": [
    "def one_boot(*data_args):\n",
    "    \"\"\"Usage: (t, p) = one_boot(true, pred) with true, pred, t, p arrays of same length\n",
    "    \"\"\"\n",
    "    length = len(data_args[0])\n",
    "    index = np.random.randint(0, length, size=length)  # apply same sampled index to all args:\n",
    "    return [ pd.Series(arg.values[index], name=arg.name)  # .reset_index() is slower\n",
    "             if isinstance(arg, pd.Series) else arg[index]   for  arg in data_args\n",
    "           ]"
   ]
  },
  {
   "cell_type": "markdown",
   "metadata": {},
   "source": [
    "## show 1 boot dataset next to orig dataset"
   ]
  },
  {
   "cell_type": "code",
   "execution_count": 12,
   "metadata": {},
   "outputs": [
    {
     "name": "stdout",
     "output_type": "stream",
     "text": [
      "Couldn't find program: 'echo'\n"
     ]
    }
   ],
   "source": [
    "%%script echo skipping\n",
    "ytest=ytest.reset_index(drop=True)\n",
    "np.random.seed(13)\n",
    "(y,pred) = one_boot(ytest, hardpredtst_tuned_thresh)\n",
    "pd.DataFrame\\\n",
    "  (dict(ytest=ytest, hardpredtst_tuned_thresh=hardpredtst_tuned_thresh, y=y, pred=pred))"
   ]
  },
  {
   "cell_type": "markdown",
   "metadata": {},
   "source": [
    "## Making each boot sample dataset and calculating metrics for it"
   ]
  },
  {
   "cell_type": "code",
   "execution_count": 13,
   "metadata": {},
   "outputs": [],
   "source": [
    "import tqdm  # progress bar\n",
    "def trange(iterable):  # narrower progress bar so it won't wrap\n",
    "    return tqdm.trange(iterable, bar_format=\"{l_bar}{bar:30}{r_bar}{bar:-10b}\")\n",
    "def raw_metric_samples(metrics, *data_args, nboots):\n",
    "    \"\"\"Return dataframe containing metric(s) for nboots boot sample datasets\n",
    "    where metrics is a metric func or iterable of funcs e.g. [m1, m2, m3]\n",
    "    \"\"\"\n",
    "    metrics=_fix_metrics(metrics)\n",
    "    cols=[ calc_metrics(metrics, *boot_data)   for boot_data  in _boot_generator\\\n",
    "           (*data_args, nboots=nboots)  if boot_data[0].nunique() > 1  # > 1 for log Loss, ROC\n",
    "         ]#end of list comprehension\n",
    "    return pd.DataFrame\\\n",
    "      ( {iboot: col for iboot,col in enumerate(cols)}#end of dict comprehension\n",
    "      ).rename_axis(\"Boot\", axis=\"columns\").rename_axis(cols[0].name)\n",
    "def _boot_generator(*data_args, nboots): # return Gener of boot sample datasets, not huge list!\n",
    "    return (one_boot(*data_args) for _ in trange(nboots)) # generator expression"
   ]
  },
  {
   "cell_type": "markdown",
   "metadata": {},
   "source": [
    "## Look at metrics on 7 boot sample datasets"
   ]
  },
  {
   "cell_type": "code",
   "execution_count": 14,
   "metadata": {},
   "outputs": [
    {
     "name": "stderr",
     "output_type": "stream",
     "text": [
      "100%|██████████████████████████████| 7/7 [00:00<00:00, 16.17it/s]                                                                                          \n"
     ]
    },
    {
     "data": {
      "text/html": [
       "<style type=\"text/css\">\n",
       "</style>\n",
       "<table id=\"T_7bdf0\">\n",
       "  <thead>\n",
       "    <tr>\n",
       "      <th class=\"index_name level0\" >Boot</th>\n",
       "      <th id=\"T_7bdf0_level0_col0\" class=\"col_heading level0 col0\" >0</th>\n",
       "      <th id=\"T_7bdf0_level0_col1\" class=\"col_heading level0 col1\" >1</th>\n",
       "      <th id=\"T_7bdf0_level0_col2\" class=\"col_heading level0 col2\" >2</th>\n",
       "      <th id=\"T_7bdf0_level0_col3\" class=\"col_heading level0 col3\" >3</th>\n",
       "      <th id=\"T_7bdf0_level0_col4\" class=\"col_heading level0 col4\" >4</th>\n",
       "      <th id=\"T_7bdf0_level0_col5\" class=\"col_heading level0 col5\" >5</th>\n",
       "      <th id=\"T_7bdf0_level0_col6\" class=\"col_heading level0 col6\" >6</th>\n",
       "    </tr>\n",
       "    <tr>\n",
       "      <th class=\"index_name level0\" >Metric</th>\n",
       "      <th class=\"blank col0\" >&nbsp;</th>\n",
       "      <th class=\"blank col1\" >&nbsp;</th>\n",
       "      <th class=\"blank col2\" >&nbsp;</th>\n",
       "      <th class=\"blank col3\" >&nbsp;</th>\n",
       "      <th class=\"blank col4\" >&nbsp;</th>\n",
       "      <th class=\"blank col5\" >&nbsp;</th>\n",
       "      <th class=\"blank col6\" >&nbsp;</th>\n",
       "    </tr>\n",
       "  </thead>\n",
       "  <tbody>\n",
       "    <tr>\n",
       "      <th id=\"T_7bdf0_level0_row0\" class=\"row_heading level0 row0\" >Recall</th>\n",
       "      <td id=\"T_7bdf0_row0_col0\" class=\"data row0 col0\" >93.46%</td>\n",
       "      <td id=\"T_7bdf0_row0_col1\" class=\"data row0 col1\" >89.81%</td>\n",
       "      <td id=\"T_7bdf0_row0_col2\" class=\"data row0 col2\" >96.62%</td>\n",
       "      <td id=\"T_7bdf0_row0_col3\" class=\"data row0 col3\" >89.38%</td>\n",
       "      <td id=\"T_7bdf0_row0_col4\" class=\"data row0 col4\" >89.57%</td>\n",
       "      <td id=\"T_7bdf0_row0_col5\" class=\"data row0 col5\" >89.68%</td>\n",
       "      <td id=\"T_7bdf0_row0_col6\" class=\"data row0 col6\" >82.82%</td>\n",
       "    </tr>\n",
       "    <tr>\n",
       "      <th id=\"T_7bdf0_level0_row1\" class=\"row_heading level0 row1\" >Specificity (Recall of −ve)</th>\n",
       "      <td id=\"T_7bdf0_row1_col0\" class=\"data row1 col0\" >94.29%</td>\n",
       "      <td id=\"T_7bdf0_row1_col1\" class=\"data row1 col1\" >94.14%</td>\n",
       "      <td id=\"T_7bdf0_row1_col2\" class=\"data row1 col2\" >94.29%</td>\n",
       "      <td id=\"T_7bdf0_row1_col3\" class=\"data row1 col3\" >94.35%</td>\n",
       "      <td id=\"T_7bdf0_row1_col4\" class=\"data row1 col4\" >94.27%</td>\n",
       "      <td id=\"T_7bdf0_row1_col5\" class=\"data row1 col5\" >94.09%</td>\n",
       "      <td id=\"T_7bdf0_row1_col6\" class=\"data row1 col6\" >94.28%</td>\n",
       "    </tr>\n",
       "    <tr>\n",
       "      <th id=\"T_7bdf0_level0_row2\" class=\"row_heading level0 row2\" >Balanced Accuracy</th>\n",
       "      <td id=\"T_7bdf0_row2_col0\" class=\"data row2 col0\" >93.88%</td>\n",
       "      <td id=\"T_7bdf0_row2_col1\" class=\"data row2 col1\" >91.98%</td>\n",
       "      <td id=\"T_7bdf0_row2_col2\" class=\"data row2 col2\" >95.45%</td>\n",
       "      <td id=\"T_7bdf0_row2_col3\" class=\"data row2 col3\" >91.86%</td>\n",
       "      <td id=\"T_7bdf0_row2_col4\" class=\"data row2 col4\" >91.92%</td>\n",
       "      <td id=\"T_7bdf0_row2_col5\" class=\"data row2 col5\" >91.88%</td>\n",
       "      <td id=\"T_7bdf0_row2_col6\" class=\"data row2 col6\" >88.55%</td>\n",
       "    </tr>\n",
       "  </tbody>\n",
       "</table>\n"
      ],
      "text/plain": [
       "<pandas.io.formats.style.Styler at 0x1de5bab4b80>"
      ]
     },
     "execution_count": 14,
     "metadata": {},
     "output_type": "execute_result"
    }
   ],
   "source": [
    "np.random.seed(13)\n",
    "raw_metric_samples(met, ytest, hardpredtst_tuned_thresh, \n",
    "          nboots=7).style.format('{:.2%}')  #optional #style"
   ]
  },
  {
   "cell_type": "markdown",
   "metadata": {},
   "source": [
    "## Functions to calculate default nboots as min needec for given alpha, smallest alpha that we can calculate accurately for \"small\" specified nboots."
   ]
  },
  {
   "cell_type": "code",
   "execution_count": 15,
   "metadata": {},
   "outputs": [],
   "source": [
    "DFLT_ALPHA = 0.05  # 95% confidence level.    # MIN_BOOTS_IN_1TAIL includes tail boundary:\n",
    "MIN_BOOTS_IN_1TAIL=11 # North et al.:10; Davidson&MacK \".05-->399\"==>11, \".01-->1499\"==>9\n",
    "MAX_ALPHA = 0.40 # Make it .25 or .20?  Min boots formula dubious even at .40 or .25?\n",
    "\n",
    "# Formula: boots_in_1tail = (nboots - 1) * (0.5*alpha) + 1 ; (0.5*alpha is size of 1 tail)\n",
    "# E.g. nboots=6, alpha=0.40 (confid level = .60). With vals X[0] to X[5] sorted, quantiles are:\n",
    "#   0.0 --> X[0]  (first of 2 in lower tail)\n",
    "#   0.2 --> X[1]  interval lower  (0.5*alpha gives 0.2) (2nd of 2 in lower tail)\n",
    "#   0.4 --> X[2]\n",
    "#   0.6 --> X[3]\n",
    "#   0.8 --> X[4]  interval upper  (1 - 0.5*alpha gives 0.8) (2nd of 2 in upper tail)\n",
    "#   1.0 --> X[5]  (first of 2 in upper tail)\n",
    "# so boots_in_1tail is (6-1)0.5*0.40+1 gives 2 per tail: X[0],X[1] in lower, X[4],X[5] in upper\n",
    "def _min_nboots_from(alpha): # Calculate using this formula (from abov), solved for min_nboots: \n",
    "                             # MIN_BOOTS_IN_1TAIL = (min_nboots - 1) * (0.5*alpha) + 1\n",
    "    return int(np.ceil((MIN_BOOTS_IN_1TAIL - 1)/(0.5*alpha) + 1)) \n",
    "def _min_alpha_from(nboots): # Calc. using this formula (from above), but solved for min_alpha: \n",
    "                             # MIN_BOOTS_IN_1TAIL = (nboots - 1) * (0.5*min_alpha) + 1\n",
    "    return 2 * (MIN_BOOTS_IN_1TAIL - 1) / (nboots - 1)\n",
    "MIN_NBOOTS = _min_nboots_from(MAX_ALPHA)\n",
    "\n",
    "def get_alpha_nboots(alpha=DFLT_ALPHA, nboots=None):\n",
    "    \"\"\"Return (alpha, nboots) with default nboots, applying MIN_NBOOTS and min alpha for nboots.\n",
    "    \"\"\"\n",
    "    if alpha > MAX_ALPHA and (0 < (1-alpha) <= MAX_ALPHA):\n",
    "        raise ValueError(f'alpha={alpha} > {MAX_ALPHA}. Did you mean alpha={1-alpha:.9g}?')\n",
    "    elif not (0 < alpha <= MAX_ALPHA):\n",
    "        raise ValueError(f'alpha={alpha} is outside allowed range: 0 < alpha <= {MAX_ALPHA}')\n",
    "    if pd.isna(nboots):   # by dflt use calculated min nboots for given alpha:\n",
    "        nboots = _min_nboots_from(alpha)\n",
    "    if int(nboots) != nboots: raise ValueError(f\"nboots={nboots} isn't an integer\")\n",
    "    nboots = max(int(nboots), MIN_NBOOTS)  # apply min to a specified OR calcul./default nboots\n",
    "    return (max(alpha, _min_alpha_from(nboots)), nboots)  # apply min alpha for final nboots"
   ]
  },
  {
   "cell_type": "code",
   "execution_count": 16,
   "metadata": {},
   "outputs": [
    {
     "data": {
      "text/html": [
       "<div>\n",
       "<style scoped>\n",
       "    .dataframe tbody tr th:only-of-type {\n",
       "        vertical-align: middle;\n",
       "    }\n",
       "\n",
       "    .dataframe tbody tr th {\n",
       "        vertical-align: top;\n",
       "    }\n",
       "\n",
       "    .dataframe thead th {\n",
       "        text-align: right;\n",
       "    }\n",
       "</style>\n",
       "<table border=\"1\" class=\"dataframe\">\n",
       "  <thead>\n",
       "    <tr style=\"text-align: right;\">\n",
       "      <th></th>\n",
       "      <th>default nboots</th>\n",
       "    </tr>\n",
       "    <tr>\n",
       "      <th>alpha</th>\n",
       "      <th></th>\n",
       "    </tr>\n",
       "  </thead>\n",
       "  <tbody>\n",
       "    <tr>\n",
       "      <th>0.400</th>\n",
       "      <td>51</td>\n",
       "    </tr>\n",
       "    <tr>\n",
       "      <th>0.200</th>\n",
       "      <td>101</td>\n",
       "    </tr>\n",
       "    <tr>\n",
       "      <th>0.100</th>\n",
       "      <td>201</td>\n",
       "    </tr>\n",
       "    <tr>\n",
       "      <th>0.050</th>\n",
       "      <td>401</td>\n",
       "    </tr>\n",
       "    <tr>\n",
       "      <th>0.020</th>\n",
       "      <td>1001</td>\n",
       "    </tr>\n",
       "    <tr>\n",
       "      <th>0.010</th>\n",
       "      <td>2001</td>\n",
       "    </tr>\n",
       "    <tr>\n",
       "      <th>0.005</th>\n",
       "      <td>4001</td>\n",
       "    </tr>\n",
       "  </tbody>\n",
       "</table>\n",
       "</div>"
      ],
      "text/plain": [
       "       default nboots\n",
       "alpha                \n",
       "0.400              51\n",
       "0.200             101\n",
       "0.100             201\n",
       "0.050             401\n",
       "0.020            1001\n",
       "0.010            2001\n",
       "0.005            4001"
      ]
     },
     "execution_count": 16,
     "metadata": {},
     "output_type": "execute_result"
    }
   ],
   "source": [
    "g = get_alpha_nboots \n",
    "pd.DataFrame( [ g(0.40), g(0.20, None), g(0.10), g(), g(alpha=0.02), \n",
    "                g(alpha=0.01, nboots=None), g(0.005, nboots=None)\n",
    "              ], columns=['alpha', 'default nboots']\n",
    "            ).set_index('alpha')"
   ]
  },
  {
   "cell_type": "code",
   "execution_count": 17,
   "metadata": {},
   "outputs": [
    {
     "data": {
      "text/html": [
       "<div>\n",
       "<style scoped>\n",
       "    .dataframe tbody tr th:only-of-type {\n",
       "        vertical-align: middle;\n",
       "    }\n",
       "\n",
       "    .dataframe tbody tr th {\n",
       "        vertical-align: top;\n",
       "    }\n",
       "\n",
       "    .dataframe thead tr th {\n",
       "        text-align: left;\n",
       "    }\n",
       "</style>\n",
       "<table border=\"1\" class=\"dataframe\">\n",
       "  <thead>\n",
       "    <tr>\n",
       "      <th></th>\n",
       "      <th colspan=\"2\" halign=\"left\">Requested</th>\n",
       "      <th colspan=\"2\" halign=\"left\">Using</th>\n",
       "    </tr>\n",
       "    <tr>\n",
       "      <th></th>\n",
       "      <th>alpha</th>\n",
       "      <th>nboots</th>\n",
       "      <th>alpha</th>\n",
       "      <th>nboots</th>\n",
       "    </tr>\n",
       "  </thead>\n",
       "  <tbody>\n",
       "    <tr>\n",
       "      <th>0</th>\n",
       "      <td>0.01</td>\n",
       "      <td>3000</td>\n",
       "      <td>0.01</td>\n",
       "      <td>3000</td>\n",
       "    </tr>\n",
       "    <tr>\n",
       "      <th>1</th>\n",
       "      <td>0.01</td>\n",
       "      <td>401</td>\n",
       "      <td>0.05</td>\n",
       "      <td>401</td>\n",
       "    </tr>\n",
       "    <tr>\n",
       "      <th>2</th>\n",
       "      <td>0.01</td>\n",
       "      <td>2</td>\n",
       "      <td>0.40</td>\n",
       "      <td>51</td>\n",
       "    </tr>\n",
       "  </tbody>\n",
       "</table>\n",
       "</div>"
      ],
      "text/plain": [
       "  Requested        Using       \n",
       "      alpha nboots alpha nboots\n",
       "0      0.01   3000  0.01   3000\n",
       "1      0.01    401  0.05    401\n",
       "2      0.01      2  0.40     51"
      ]
     },
     "execution_count": 17,
     "metadata": {},
     "output_type": "execute_result"
    }
   ],
   "source": [
    "req=[(0.01,3000), (0.01,401), (0.01,2)]\n",
    "out=[get_alpha_nboots(*args) for args in req]\n",
    "mydf = lambda x: pd.DataFrame(x, columns=['alpha', 'nboots'])\n",
    "pd.concat([mydf(req),mydf(out)],axis=1, keys=('Requested','Using'))"
   ]
  },
  {
   "cell_type": "markdown",
   "metadata": {},
   "source": [
    "## Histogram of Balanced Accuracy on bootstrap sample datasets, showing confidence interval"
   ]
  },
  {
   "cell_type": "code",
   "execution_count": 18,
   "metadata": {},
   "outputs": [],
   "source": [
    "import matplotlib, matplotlib.ticker as mtick\n",
    "def metric_boot_histogram(metric, *data_args, alpha=DFLT_ALPHA, nboots=None):\n",
    "    \"\"\"Plot histogram w/ lines for 1 observed metric & its confidence interval.\n",
    "    \"\"\"\n",
    "    alpha, nboots = get_alpha_nboots(alpha, nboots) # 1-row df 2 series:\n",
    "    series = raw_metric_samples(metric, *data_args, nboots=nboots).iloc[0,:]\n",
    "    nboots=len(series) # in case some failed\n",
    "    (lo, hi) = series.quantile([0.5*alpha, 1 - 0.5*alpha])\n",
    "    matplotlib.rcParams[\"figure.dpi\"] = 250\n",
    "    ax = series.hist(bins=50, figsize=(7, 2.5), alpha=0.4, edgecolor='white')\n",
    "    showing = f\", showing {100*(1-alpha):.4g}% Confidence Interval\"\n",
    "    ax.set_title(f\"Histogram of {nboots} boot results\" + showing)\n",
    "    ax.set_xlabel(series.name)\n",
    "    ax.xaxis.set_major_formatter(mtick.PercentFormatter(1.0, decimals=0))\n",
    "    for x in lo, metric(*data_args), hi:\n",
    "        ax.plot([x, x], [0, nboots*.07], lw=2.5)"
   ]
  },
  {
   "cell_type": "code",
   "execution_count": null,
   "metadata": {},
   "outputs": [],
   "source": []
  },
  {
   "cell_type": "code",
   "execution_count": 19,
   "metadata": {},
   "outputs": [
    {
     "name": "stderr",
     "output_type": "stream",
     "text": [
      "100%|██████████████████████████████| 401/401 [00:04<00:00, 94.92it/s]                                                                                      \n"
     ]
    },
    {
     "data": {
      "image/png": "[encoded data removed]",
      "text/plain": [
       "<Figure size 1750x625 with 1 Axes>"
      ]
     },
     "metadata": {},
     "output_type": "display_data"
    }
   ],
   "source": [
    "np.random.seed(13)\n",
    "metric_boot_histogram\\\n",
    "  (metrics.balanced_accuracy_score, ytest, hardpredtst_tuned_thresh)"
   ]
  },
  {
   "cell_type": "markdown",
   "metadata": {},
   "source": [
    "## How to calculate the confidence intervals for list of metrics"
   ]
  },
  {
   "cell_type": "code",
   "execution_count": 20,
   "metadata": {},
   "outputs": [],
   "source": [
    "def ci_auto( metrics, *data_args, alpha=DFLT_ALPHA, nboots=None):\n",
    "    \"\"\"Return Pandas data frame of bootstrap confidence intervals. \n",
    "    PARAMETERS:\n",
    "    metrics : a metric func or iterable of funcs e.g. [m1, m2, m3]\n",
    "    data_args : 1+ (often 2, e.g. ytrue,ypred) iterables for metric \n",
    "    alpha: = 1 - confidence level; default=0.05 i.e. confidence=0.95\n",
    "    nboots (optional!): # boots drawn from data; dflt None ==> calc. from alpha\n",
    "    \"\"\"\n",
    "    alpha, nboots = get_alpha_nboots(alpha, nboots)\n",
    "    metrics=_fix_metrics(metrics)\n",
    "    result=raw_metric_samples(metrics, *data_args, nboots=nboots)\n",
    "    nb=result.shape[1]  # num boots we ended up with\n",
    "    if nb<nboots:\n",
    "        t = f'Note: {nboots-nb} boot sample datasets dropped\\n'\n",
    "        print(t + f'(out of {nboots}) because all vals were same in 1st data arg.')\n",
    "    result = result.apply(lambda row: row.quantile([0.5*alpha, 1 - 0.5*alpha]), axis=1)\n",
    "    result.columns = [f'{x*100:.4g}%ile' for x in (0.5*alpha, 1 - 0.5*alpha)]\n",
    "    result.insert(0, \"Observed\", calc_metrics(metrics, *data_args)) # col. for obs (point estim)\n",
    "    return result.rename_axis(f\"%ile for {nb} Boots\", axis=\"columns\")"
   ]
  },
  {
   "cell_type": "markdown",
   "metadata": {},
   "source": [
    "## Calculate the results!"
   ]
  },
  {
   "cell_type": "code",
   "execution_count": 21,
   "metadata": {},
   "outputs": [
    {
     "name": "stderr",
     "output_type": "stream",
     "text": [
      "100%|██████████████████████████████| 401/401 [00:22<00:00, 18.22it/s]                                                                                      \n"
     ]
    },
    {
     "data": {
      "text/html": [
       "<style type=\"text/css\">\n",
       "</style>\n",
       "<table id=\"T_ada54\">\n",
       "  <thead>\n",
       "    <tr>\n",
       "      <th class=\"index_name level0\" >%ile for 401 Boots</th>\n",
       "      <th id=\"T_ada54_level0_col0\" class=\"col_heading level0 col0\" >Observed</th>\n",
       "      <th id=\"T_ada54_level0_col1\" class=\"col_heading level0 col1\" >2.5%ile</th>\n",
       "      <th id=\"T_ada54_level0_col2\" class=\"col_heading level0 col2\" >97.5%ile</th>\n",
       "    </tr>\n",
       "    <tr>\n",
       "      <th class=\"index_name level0\" >Metric</th>\n",
       "      <th class=\"blank col0\" >&nbsp;</th>\n",
       "      <th class=\"blank col1\" >&nbsp;</th>\n",
       "      <th class=\"blank col2\" >&nbsp;</th>\n",
       "    </tr>\n",
       "  </thead>\n",
       "  <tbody>\n",
       "    <tr>\n",
       "      <th id=\"T_ada54_level0_row0\" class=\"row_heading level0 row0\" >Recall</th>\n",
       "      <td id=\"T_ada54_row0_col0\" class=\"data row0 col0\" >90.54%</td>\n",
       "      <td id=\"T_ada54_row0_col1\" class=\"data row0 col1\" >85.29%</td>\n",
       "      <td id=\"T_ada54_row0_col2\" class=\"data row0 col2\" >95.27%</td>\n",
       "    </tr>\n",
       "    <tr>\n",
       "      <th id=\"T_ada54_level0_row1\" class=\"row_heading level0 row1\" >Specificity (Recall of −ve)</th>\n",
       "      <td id=\"T_ada54_row1_col0\" class=\"data row1 col0\" >94.25%</td>\n",
       "      <td id=\"T_ada54_row1_col1\" class=\"data row1 col1\" >94.11%</td>\n",
       "      <td id=\"T_ada54_row1_col2\" class=\"data row1 col2\" >94.40%</td>\n",
       "    </tr>\n",
       "    <tr>\n",
       "      <th id=\"T_ada54_level0_row2\" class=\"row_heading level0 row2\" >Balanced Accuracy</th>\n",
       "      <td id=\"T_ada54_row2_col0\" class=\"data row2 col0\" >92.39%</td>\n",
       "      <td id=\"T_ada54_row2_col1\" class=\"data row2 col1\" >89.74%</td>\n",
       "      <td id=\"T_ada54_row2_col2\" class=\"data row2 col2\" >94.74%</td>\n",
       "    </tr>\n",
       "  </tbody>\n",
       "</table>\n"
      ],
      "text/plain": [
       "<pandas.io.formats.style.Styler at 0x1de5b8d60a0>"
      ]
     },
     "execution_count": 21,
     "metadata": {},
     "output_type": "execute_result"
    }
   ],
   "source": [
    "np.random.seed(13)\n",
    "ci_auto( met, ytest, hardpredtst_tuned_thresh\n",
    "       ).style.format('{:.2%}')"
   ]
  },
  {
   "cell_type": "code",
   "execution_count": 22,
   "metadata": {},
   "outputs": [],
   "source": [
    "#############################################################################79\n",
    "###############################################################################################97"
   ]
  },
  {
   "cell_type": "code",
   "execution_count": null,
   "metadata": {},
   "outputs": [],
   "source": []
  }
 ],
 "metadata": {
  "kernelspec": {
   "display_name": "Python 3 (ipykernel)",
   "language": "python",
   "name": "python3"
  },
  "language_info": {
   "codemirror_mode": {
    "name": "ipython",
    "version": 3
   },
   "file_extension": ".py",
   "mimetype": "text/x-python",
   "name": "python",
   "nbconvert_exporter": "python",
   "pygments_lexer": "ipython3",
   "version": "3.9.7"
  }
 },
 "nbformat": 4,
 "nbformat_minor": 4
}
